{
 "cells": [
  {
   "cell_type": "markdown",
   "id": "e8f29428",
   "metadata": {},
   "source": [
    "## <center> Movie Review Classification (IMDB) </center>"
   ]
  },
  {
   "cell_type": "markdown",
   "id": "50909ffd",
   "metadata": {},
   "source": [
    "### <center> KERAS </center> "
   ]
  },
  {
   "cell_type": "code",
   "execution_count": 16,
   "id": "a36ac60c",
   "metadata": {},
   "outputs": [],
   "source": [
    "import numpy as np"
   ]
  },
  {
   "cell_type": "code",
   "execution_count": 4,
   "id": "64336e62",
   "metadata": {},
   "outputs": [],
   "source": [
    "from tensorflow.keras.datasets import imdb  \n",
    "\n",
    "import warnings\n",
    "warnings.filterwarnings('ignore')"
   ]
  },
  {
   "cell_type": "markdown",
   "id": "b288126e",
   "metadata": {},
   "source": [
    "#### Dataset "
   ]
  },
  {
   "cell_type": "code",
   "execution_count": 6,
   "id": "542b587a",
   "metadata": {},
   "outputs": [],
   "source": [
    "(train_data, train_labels), (test_data, test_labels) = imdb.load_data(num_words=10000) "
   ]
  },
  {
   "cell_type": "code",
   "execution_count": 8,
   "id": "56313829",
   "metadata": {},
   "outputs": [
    {
     "data": {
      "text/plain": [
       "(25000,)"
      ]
     },
     "execution_count": 8,
     "metadata": {},
     "output_type": "execute_result"
    }
   ],
   "source": [
    "train_data.shape"
   ]
  },
  {
   "cell_type": "code",
   "execution_count": 11,
   "id": "60df573f",
   "metadata": {},
   "outputs": [
    {
     "data": {
      "text/plain": [
       "9999"
      ]
     },
     "execution_count": 11,
     "metadata": {},
     "output_type": "execute_result"
    }
   ],
   "source": [
    " max([max(sequence) for sequence in train_data])"
   ]
  },
  {
   "cell_type": "code",
   "execution_count": 13,
   "id": "6a73d550",
   "metadata": {},
   "outputs": [
    {
     "name": "stdout",
     "output_type": "stream",
     "text": [
      "Downloading data from https://storage.googleapis.com/tensorflow/tf-keras-datasets/imdb_word_index.json\n",
      "1646592/1641221 [==============================] - 0s 0us/step\n"
     ]
    }
   ],
   "source": [
    "word_index = imdb.get_word_index()\n",
    "reverse_word_index = dict([(value, key) for (key, value) in word_index.items()])\n",
    "decoded_review = ' '.join([reverse_word_index.get(i - 3, '?') for i in train_data[0]])"
   ]
  },
  {
   "cell_type": "code",
   "execution_count": 15,
   "id": "bb743a59",
   "metadata": {},
   "outputs": [
    {
     "data": {
      "text/plain": [
       "\"? this film was just brilliant casting location scenery story direction everyone's really suited the part they played and you could just imagine being there robert ? is an amazing actor and now the same being director ? father came from the same scottish island as myself so i loved the fact there was a real connection with this film the witty remarks throughout the film were great it was just brilliant so much that i bought the film as soon as it was released for ? and would recommend it to everyone to watch and the fly fishing was amazing really cried at the end it was so sad and you know what they say if you cry at a film it must have been good and this definitely was also ? to the two little boy's that played the ? of norman and paul they were just brilliant children are often left out of the ? list i think because the stars that play them all grown up are such a big profile for the whole film but these children are amazing and should be praised for what they have done don't you think the whole story was so lovely because it was true and was someone's life after all that was shared with us all\""
      ]
     },
     "execution_count": 15,
     "metadata": {},
     "output_type": "execute_result"
    }
   ],
   "source": [
    "decoded_review"
   ]
  },
  {
   "cell_type": "markdown",
   "id": "2c054aec",
   "metadata": {},
   "source": [
    "####  Encoding the integer sequences into a binary matrix "
   ]
  },
  {
   "cell_type": "code",
   "execution_count": 17,
   "id": "86c54b99",
   "metadata": {},
   "outputs": [],
   "source": [
    "def vectorize_sequences(sequences, dimension=10000):\n",
    "    results = np.zeros((len(sequences), dimension))\n",
    "    for i, sequence in enumerate(sequences):\n",
    "        results[i, sequence] = 1.\n",
    "    return results\n",
    "\n",
    "x_train = vectorize_sequences(train_data)\n",
    "x_test = vectorize_sequences(test_data)"
   ]
  },
  {
   "cell_type": "code",
   "execution_count": 19,
   "id": "2e965701",
   "metadata": {},
   "outputs": [
    {
     "data": {
      "text/plain": [
       "(25000, 10000)"
      ]
     },
     "execution_count": 19,
     "metadata": {},
     "output_type": "execute_result"
    }
   ],
   "source": [
    "x_train.shape"
   ]
  },
  {
   "cell_type": "code",
   "execution_count": 20,
   "id": "c24796c2",
   "metadata": {},
   "outputs": [],
   "source": [
    "y_train = np.asarray(train_labels).astype('float32') \n",
    "y_test = np.asarray(test_labels).astype('float32')"
   ]
  },
  {
   "cell_type": "code",
   "execution_count": 22,
   "id": "2ef643f5",
   "metadata": {},
   "outputs": [
    {
     "data": {
      "text/plain": [
       "(25000,)"
      ]
     },
     "execution_count": 22,
     "metadata": {},
     "output_type": "execute_result"
    }
   ],
   "source": [
    "y_train.shape"
   ]
  },
  {
   "cell_type": "markdown",
   "id": "ab6e818c",
   "metadata": {},
   "source": [
    "#### Model "
   ]
  },
  {
   "cell_type": "code",
   "execution_count": 23,
   "id": "3c02fdab",
   "metadata": {},
   "outputs": [],
   "source": [
    "from tensorflow.keras import models\n",
    "from tensorflow.keras import layers"
   ]
  },
  {
   "cell_type": "code",
   "execution_count": 24,
   "id": "7027cb7d",
   "metadata": {},
   "outputs": [
    {
     "name": "stdout",
     "output_type": "stream",
     "text": [
      "WARNING:tensorflow:From C:\\Users\\Firuz\\anaconda3\\envs\\academy\\lib\\site-packages\\tensorflow\\python\\ops\\init_ops.py:1251: calling VarianceScaling.__init__ (from tensorflow.python.ops.init_ops) with dtype is deprecated and will be removed in a future version.\n",
      "Instructions for updating:\n",
      "Call initializer instance with the dtype argument instead of passing it to the constructor\n"
     ]
    }
   ],
   "source": [
    "model = models.Sequential()\n",
    "model.add(layers.Dense(16, activation='relu', input_shape=(10000,)))\n",
    "model.add(layers.Dense(16, activation='relu'))\n",
    "model.add(layers.Dense(1, activation='sigmoid'))"
   ]
  },
  {
   "cell_type": "markdown",
   "id": "c0c28efb",
   "metadata": {},
   "source": [
    "####  Configuring the optimizer "
   ]
  },
  {
   "cell_type": "code",
   "execution_count": 26,
   "id": "d54e87a6",
   "metadata": {},
   "outputs": [],
   "source": [
    "from tensorflow.keras import optimizers\n",
    "\n",
    "model.compile(optimizer=optimizers.RMSprop(lr=0.001), loss='binary_crossentropy', metrics=['accuracy'])"
   ]
  },
  {
   "cell_type": "code",
   "execution_count": 27,
   "id": "7d1e2592",
   "metadata": {},
   "outputs": [],
   "source": [
    "from tensorflow.keras import losses\n",
    "from tensorflow.keras import metrics\n",
    "\n",
    "model.compile(optimizer=optimizers.RMSprop(lr=0.001), loss=losses.binary_crossentropy, metrics=[metrics.binary_accuracy])"
   ]
  },
  {
   "cell_type": "code",
   "execution_count": 28,
   "id": "8beee651",
   "metadata": {},
   "outputs": [],
   "source": [
    "x_val = x_train[:10000]\n",
    "partial_x_train = x_train[10000:]"
   ]
  },
  {
   "cell_type": "code",
   "execution_count": 29,
   "id": "e7dc8cab",
   "metadata": {},
   "outputs": [],
   "source": [
    "y_val = y_train[:10000]\n",
    "partial_y_train = y_train[10000:]"
   ]
  },
  {
   "cell_type": "code",
   "execution_count": 30,
   "id": "32284fe3",
   "metadata": {},
   "outputs": [
    {
     "name": "stdout",
     "output_type": "stream",
     "text": [
      "Train on 15000 samples, validate on 10000 samples\n",
      "Epoch 1/20\n",
      "15000/15000 [==============================] - 2s 106us/sample - loss: 0.5629 - binary_accuracy: 0.7436 - val_loss: 0.4379 - val_binary_accuracy: 0.8649\n",
      "Epoch 2/20\n",
      "15000/15000 [==============================] - 1s 79us/sample - loss: 0.3521 - binary_accuracy: 0.8943 - val_loss: 0.3316 - val_binary_accuracy: 0.8820\n",
      "Epoch 3/20\n",
      "15000/15000 [==============================] - 1s 80us/sample - loss: 0.2527 - binary_accuracy: 0.9207 - val_loss: 0.2883 - val_binary_accuracy: 0.8905\n",
      "Epoch 4/20\n",
      "15000/15000 [==============================] - 1s 79us/sample - loss: 0.1986 - binary_accuracy: 0.9358 - val_loss: 0.2784 - val_binary_accuracy: 0.8902\n",
      "Epoch 5/20\n",
      "15000/15000 [==============================] - 1s 80us/sample - loss: 0.1590 - binary_accuracy: 0.9492 - val_loss: 0.3010 - val_binary_accuracy: 0.8796\n",
      "Epoch 6/20\n",
      "15000/15000 [==============================] - 1s 80us/sample - loss: 0.1314 - binary_accuracy: 0.9592 - val_loss: 0.2825 - val_binary_accuracy: 0.8896\n",
      "Epoch 7/20\n",
      "15000/15000 [==============================] - 1s 79us/sample - loss: 0.1105 - binary_accuracy: 0.9663 - val_loss: 0.2962 - val_binary_accuracy: 0.8864\n",
      "Epoch 8/20\n",
      "15000/15000 [==============================] - 1s 80us/sample - loss: 0.0899 - binary_accuracy: 0.9749 - val_loss: 0.3131 - val_binary_accuracy: 0.8850\n",
      "Epoch 9/20\n",
      "15000/15000 [==============================] - 1s 79us/sample - loss: 0.0748 - binary_accuracy: 0.9795 - val_loss: 0.3456 - val_binary_accuracy: 0.8807\n",
      "Epoch 10/20\n",
      "15000/15000 [==============================] - 1s 83us/sample - loss: 0.0629 - binary_accuracy: 0.9835 - val_loss: 0.3566 - val_binary_accuracy: 0.8802\n",
      "Epoch 11/20\n",
      "15000/15000 [==============================] - 1s 79us/sample - loss: 0.0508 - binary_accuracy: 0.9872 - val_loss: 0.4029 - val_binary_accuracy: 0.8716\n",
      "Epoch 12/20\n",
      "15000/15000 [==============================] - 1s 79us/sample - loss: 0.0407 - binary_accuracy: 0.9908 - val_loss: 0.4065 - val_binary_accuracy: 0.8765\n",
      "Epoch 13/20\n",
      "15000/15000 [==============================] - 1s 80us/sample - loss: 0.0339 - binary_accuracy: 0.9925 - val_loss: 0.4391 - val_binary_accuracy: 0.8759\n",
      "Epoch 14/20\n",
      "15000/15000 [==============================] - 1s 79us/sample - loss: 0.0274 - binary_accuracy: 0.9943 - val_loss: 0.4662 - val_binary_accuracy: 0.8723\n",
      "Epoch 15/20\n",
      "15000/15000 [==============================] - 1s 79us/sample - loss: 0.0216 - binary_accuracy: 0.9965 - val_loss: 0.5047 - val_binary_accuracy: 0.8733\n",
      "Epoch 16/20\n",
      "15000/15000 [==============================] - 1s 79us/sample - loss: 0.0164 - binary_accuracy: 0.9979 - val_loss: 0.5337 - val_binary_accuracy: 0.8715\n",
      "Epoch 17/20\n",
      "15000/15000 [==============================] - 1s 80us/sample - loss: 0.0121 - binary_accuracy: 0.9989 - val_loss: 0.5692 - val_binary_accuracy: 0.8686\n",
      "Epoch 18/20\n",
      "15000/15000 [==============================] - 1s 79us/sample - loss: 0.0117 - binary_accuracy: 0.9983 - val_loss: 0.6060 - val_binary_accuracy: 0.8680\n",
      "Epoch 19/20\n",
      "15000/15000 [==============================] - 1s 82us/sample - loss: 0.0069 - binary_accuracy: 0.9997 - val_loss: 0.6462 - val_binary_accuracy: 0.8696\n",
      "Epoch 20/20\n",
      "15000/15000 [==============================] - 1s 79us/sample - loss: 0.0068 - binary_accuracy: 0.9989 - val_loss: 0.6933 - val_binary_accuracy: 0.8671\n"
     ]
    }
   ],
   "source": [
    "history = model.fit(partial_x_train, partial_y_train, epochs=20, batch_size=512, validation_data=(x_val, y_val))"
   ]
  },
  {
   "cell_type": "code",
   "execution_count": 31,
   "id": "092bc0ce",
   "metadata": {},
   "outputs": [],
   "source": [
    " history_dict = history.history"
   ]
  },
  {
   "cell_type": "code",
   "execution_count": 32,
   "id": "17351b89",
   "metadata": {},
   "outputs": [
    {
     "data": {
      "text/plain": [
       "dict_keys(['loss', 'binary_accuracy', 'val_loss', 'val_binary_accuracy'])"
      ]
     },
     "execution_count": 32,
     "metadata": {},
     "output_type": "execute_result"
    }
   ],
   "source": [
    " history_dict.keys()"
   ]
  },
  {
   "cell_type": "markdown",
   "id": "2015e125",
   "metadata": {},
   "source": [
    "####  Plotting the training and validation loss "
   ]
  },
  {
   "cell_type": "code",
   "execution_count": 34,
   "id": "ce6f63e0",
   "metadata": {},
   "outputs": [],
   "source": [
    "import matplotlib.pyplot as plt "
   ]
  },
  {
   "cell_type": "code",
   "execution_count": 36,
   "id": "a101ea30",
   "metadata": {},
   "outputs": [
    {
     "data": {
      "image/png": "[encoded data removed]",
      "text/plain": [
       "<Figure size 432x288 with 1 Axes>"
      ]
     },
     "metadata": {
      "needs_background": "light"
     },
     "output_type": "display_data"
    }
   ],
   "source": [
    "history_dict = history.history\n",
    "loss_values = history_dict['loss']\n",
    "val_loss_values = history_dict['val_loss']\n",
    "acc = history_dict['val_binary_accuracy']\n",
    "epochs = range(1, len(acc) + 1)\n",
    "\n",
    "plt.plot(epochs, loss_values, 'bo', label='Training loss')\n",
    "plt.plot(epochs, val_loss_values, 'b', label='Validation loss')\n",
    "plt.title('Training and validation loss')\n",
    "plt.xlabel('Epochs')\n",
    "plt.ylabel('Loss')\n",
    "plt.legend()\n",
    "plt.show()"
   ]
  },
  {
   "cell_type": "code",
   "execution_count": 40,
   "id": "eecebd08",
   "metadata": {},
   "outputs": [
    {
     "data": {
      "image/png": "[encoded data removed]",
      "text/plain": [
       "<Figure size 432x288 with 1 Axes>"
      ]
     },
     "metadata": {
      "needs_background": "light"
     },
     "output_type": "display_data"
    }
   ],
   "source": [
    "plt.clf()\n",
    "acc_values = history_dict['binary_accuracy']\n",
    "val_acc_values = history_dict['val_binary_accuracy']\n",
    "\n",
    "plt.plot(epochs, acc_values, 'bo', label='Training acc')\n",
    "plt.plot(epochs, val_acc_values, 'b', label='Validation acc')\n",
    "plt.title('Training and validation accuracy')\n",
    "plt.xlabel('Epochs')\n",
    "plt.ylabel('Loss')\n",
    "plt.legend()\n",
    "plt.show()"
   ]
  },
  {
   "cell_type": "markdown",
   "id": "52579a53",
   "metadata": {},
   "source": [
    "#### Retraining a model from scratch"
   ]
  },
  {
   "cell_type": "code",
   "execution_count": 41,
   "id": "898cb7ba",
   "metadata": {},
   "outputs": [
    {
     "name": "stdout",
     "output_type": "stream",
     "text": [
      "Epoch 1/4\n",
      "25000/25000 [==============================] - 1s 57us/sample - loss: 0.4630 - acc: 0.8271\n",
      "Epoch 2/4\n",
      "25000/25000 [==============================] - 1s 50us/sample - loss: 0.2699 - acc: 0.9076\n",
      "Epoch 3/4\n",
      "25000/25000 [==============================] - 1s 55us/sample - loss: 0.2069 - acc: 0.9273\n",
      "Epoch 4/4\n",
      "25000/25000 [==============================] - 1s 55us/sample - loss: 0.1719 - acc: 0.93860s - loss: 0.1673 - ac\n",
      "25000/25000 [==============================] - 2s 68us/sample - loss: 0.2859 - acc: 0.8868\n"
     ]
    }
   ],
   "source": [
    "model = models.Sequential()\n",
    "model.add(layers.Dense(16, activation='relu', input_shape=(10000,)))\n",
    "model.add(layers.Dense(16, activation='relu'))\n",
    "model.add(layers.Dense(1, activation='sigmoid'))\n",
    "model.compile(optimizer='rmsprop',loss='binary_crossentropy',metrics=['accuracy']) \n",
    "model.fit(x_train, y_train, epochs=4, batch_size=512)\n",
    "results = model.evaluate(x_test, y_test)"
   ]
  },
  {
   "cell_type": "code",
   "execution_count": 42,
   "id": "756199b3",
   "metadata": {},
   "outputs": [
    {
     "data": {
      "text/plain": [
       "[0.2858794582653046, 0.88684]"
      ]
     },
     "execution_count": 42,
     "metadata": {},
     "output_type": "execute_result"
    }
   ],
   "source": [
    "results"
   ]
  },
  {
   "cell_type": "markdown",
   "id": "ef962514",
   "metadata": {},
   "source": [
    "#### Using a trained network to generate predictions on new data"
   ]
  },
  {
   "cell_type": "code",
   "execution_count": 43,
   "id": "fef2d5f0",
   "metadata": {},
   "outputs": [
    {
     "data": {
      "text/plain": [
       "array([[0.23967892],\n",
       "       [0.99982625],\n",
       "       [0.88762546],\n",
       "       ...,\n",
       "       [0.11793447],\n",
       "       [0.08536926],\n",
       "       [0.53934246]], dtype=float32)"
      ]
     },
     "execution_count": 43,
     "metadata": {},
     "output_type": "execute_result"
    }
   ],
   "source": [
    "model.predict(x_test)"
   ]
  },
  {
   "cell_type": "markdown",
   "id": "d0a19e7a",
   "metadata": {},
   "source": [
    "#### FNet ;) "
   ]
  },
  {
   "cell_type": "code",
   "execution_count": 64,
   "id": "9e4510b0",
   "metadata": {},
   "outputs": [
    {
     "name": "stdout",
     "output_type": "stream",
     "text": [
      "Epoch 1/10\n",
      "25000/25000 [==============================] - 1s 59us/sample - loss: 0.3382 - acc: 0.8612\n",
      "Epoch 2/10\n",
      "25000/25000 [==============================] - 1s 54us/sample - loss: 0.1852 - acc: 0.9314\n",
      "Epoch 3/10\n",
      "25000/25000 [==============================] - 1s 55us/sample - loss: 0.1355 - acc: 0.9519\n",
      "Epoch 4/10\n",
      "25000/25000 [==============================] - 1s 53us/sample - loss: 0.1036 - acc: 0.9650\n",
      "Epoch 5/10\n",
      "25000/25000 [==============================] - 1s 55us/sample - loss: 0.0756 - acc: 0.9764\n",
      "Epoch 6/10\n",
      "25000/25000 [==============================] - 1s 53us/sample - loss: 0.0543 - acc: 0.9839\n",
      "Epoch 7/10\n",
      "25000/25000 [==============================] - 1s 54us/sample - loss: 0.0356 - acc: 0.9905\n",
      "Epoch 8/10\n",
      "25000/25000 [==============================] - 1s 54us/sample - loss: 0.0261 - acc: 0.9932\n",
      "Epoch 9/10\n",
      "25000/25000 [==============================] - 1s 54us/sample - loss: 0.0226 - acc: 0.9942\n",
      "Epoch 10/10\n",
      "25000/25000 [==============================] - 1s 55us/sample - loss: 0.0161 - acc: 0.9958\n",
      "25000/25000 [==============================] - 2s 60us/sample - loss: 0.7565 - acc: 0.8534\n"
     ]
    }
   ],
   "source": [
    "model = models.Sequential()\n",
    "model.add(layers.Dense(16, activation='relu', input_shape=(10000,)))\n",
    "model.add(layers.Dense(16, activation='tanh'))\n",
    "model.add(layers.Dense(1, activation='sigmoid'))\n",
    "model.compile(optimizer='adam',loss='binary_crossentropy',metrics=['accuracy']) \n",
    "model.fit(x_train, y_train, epochs=10, batch_size=128)\n",
    "results = model.evaluate(x_test, y_test)"
   ]
  },
  {
   "cell_type": "code",
   "execution_count": 57,
   "id": "0882d2ff",
   "metadata": {},
   "outputs": [
    {
     "data": {
      "text/plain": [
       "[0.299293592414856, 0.876]"
      ]
     },
     "execution_count": 57,
     "metadata": {},
     "output_type": "execute_result"
    }
   ],
   "source": [
    "results"
   ]
  },
  {
   "cell_type": "code",
   "execution_count": 51,
   "id": "a4ce7d91",
   "metadata": {},
   "outputs": [
    {
     "name": "stdout",
     "output_type": "stream",
     "text": [
      "Model: \"sequential_4\"\n",
      "_________________________________________________________________\n",
      "Layer (type)                 Output Shape              Param #   \n",
      "=================================================================\n",
      "dense_14 (Dense)             (None, 32)                320032    \n",
      "_________________________________________________________________\n",
      "dense_15 (Dense)             (None, 16)                528       \n",
      "_________________________________________________________________\n",
      "dense_16 (Dense)             (None, 16)                272       \n",
      "_________________________________________________________________\n",
      "dense_17 (Dense)             (None, 1)                 17        \n",
      "=================================================================\n",
      "Total params: 320,849\n",
      "Trainable params: 320,849\n",
      "Non-trainable params: 0\n",
      "_________________________________________________________________\n"
     ]
    }
   ],
   "source": [
    "model.summary()"
   ]
  },
  {
   "cell_type": "markdown",
   "id": "c4f547d2",
   "metadata": {},
   "source": [
    "## <center>  Classifying newswires </center> \n",
    "### Multiclass problem "
   ]
  },
  {
   "cell_type": "code",
   "execution_count": 71,
   "id": "3f546a86",
   "metadata": {},
   "outputs": [],
   "source": [
    "from tensorflow.keras.datasets import reuters\n",
    "\n",
    "import numpy as np\n",
    "# save np.load\n",
    "np_load_old = np.load"
   ]
  },
  {
   "cell_type": "code",
   "execution_count": 72,
   "id": "aaea2015",
   "metadata": {},
   "outputs": [],
   "source": [
    "# modify the default parameters of np.load\n",
    "np.load = lambda *a,**k: np_load_old(*a, allow_pickle=True, **k) \n",
    "\n",
    "(train_data, train_labels), (test_data, test_labels) = reuters.load_data(num_words=10000)"
   ]
  },
  {
   "cell_type": "code",
   "execution_count": 73,
   "id": "5cb62caa",
   "metadata": {},
   "outputs": [
    {
     "data": {
      "text/plain": [
       "(8982,)"
      ]
     },
     "execution_count": 73,
     "metadata": {},
     "output_type": "execute_result"
    }
   ],
   "source": [
    "train_data.shape"
   ]
  },
  {
   "cell_type": "code",
   "execution_count": 74,
   "id": "12dfbbf5",
   "metadata": {},
   "outputs": [
    {
     "data": {
      "text/plain": [
       "[1,\n",
       " 245,\n",
       " 273,\n",
       " 207,\n",
       " 156,\n",
       " 53,\n",
       " 74,\n",
       " 160,\n",
       " 26,\n",
       " 14,\n",
       " 46,\n",
       " 296,\n",
       " 26,\n",
       " 39,\n",
       " 74,\n",
       " 2979,\n",
       " 3554,\n",
       " 14,\n",
       " 46,\n",
       " 4689,\n",
       " 4329,\n",
       " 86,\n",
       " 61,\n",
       " 3499,\n",
       " 4795,\n",
       " 14,\n",
       " 61,\n",
       " 451,\n",
       " 4329,\n",
       " 17,\n",
       " 12]"
      ]
     },
     "execution_count": 74,
     "metadata": {},
     "output_type": "execute_result"
    }
   ],
   "source": [
    " train_data[10]"
   ]
  },
  {
   "cell_type": "markdown",
   "id": "09527bd1",
   "metadata": {},
   "source": [
    "####  Decoding newswires back to text"
   ]
  },
  {
   "cell_type": "code",
   "execution_count": 75,
   "id": "1590bdca",
   "metadata": {},
   "outputs": [
    {
     "name": "stdout",
     "output_type": "stream",
     "text": [
      "Downloading data from https://storage.googleapis.com/tensorflow/tf-keras-datasets/reuters_word_index.json\n",
      "557056/550378 [==============================] - 0s 0us/step\n"
     ]
    }
   ],
   "source": [
    "word_index = reuters.get_word_index()\n",
    "reverse_word_index = dict([(value, key) for (key, value) in word_index.items()])\n",
    "decoded_newswire = ' '.join([reverse_word_index.get(i - 3, '?') for i in train_data[0]])"
   ]
  },
  {
   "cell_type": "markdown",
   "id": "4b3abcf3",
   "metadata": {},
   "source": [
    "#### Encoding the data"
   ]
  },
  {
   "cell_type": "code",
   "execution_count": 76,
   "id": "be5c3a30",
   "metadata": {},
   "outputs": [],
   "source": [
    "def vectorize_sequences(sequences, dimension=10000):\n",
    "    results = np.zeros((len(sequences), dimension))\n",
    "    for i, sequence in enumerate(sequences):\n",
    "        results[i, sequence] = 1.\n",
    "    return results\n",
    "\n",
    "x_train = vectorize_sequences(train_data)\n",
    "x_test = vectorize_sequences(test_data)"
   ]
  },
  {
   "cell_type": "code",
   "execution_count": 77,
   "id": "5965571b",
   "metadata": {},
   "outputs": [],
   "source": [
    "def to_one_hot(labels, dimension=46):\n",
    "    results = np.zeros((len(labels), dimension))\n",
    "    for i, label in enumerate(labels):\n",
    "        results[i, label] = 1.\n",
    "    return results\n",
    "\n",
    "one_hot_train_labels = to_one_hot(train_labels)\n",
    "one_hot_test_labels = to_one_hot(test_labels)"
   ]
  },
  {
   "cell_type": "code",
   "execution_count": 78,
   "id": "7b4fe784",
   "metadata": {},
   "outputs": [
    {
     "data": {
      "text/plain": [
       "array([[0., 0., 0., ..., 0., 0., 0.],\n",
       "       [0., 0., 0., ..., 0., 0., 0.],\n",
       "       [0., 0., 0., ..., 0., 0., 0.],\n",
       "       ...,\n",
       "       [0., 0., 0., ..., 0., 0., 0.],\n",
       "       [0., 0., 0., ..., 0., 0., 0.],\n",
       "       [0., 0., 0., ..., 0., 0., 0.]])"
      ]
     },
     "execution_count": 78,
     "metadata": {},
     "output_type": "execute_result"
    }
   ],
   "source": [
    "one_hot_train_labels"
   ]
  },
  {
   "cell_type": "markdown",
   "id": "cef8063e",
   "metadata": {},
   "source": [
    "Note that there is a built-in way to do this in Keras "
   ]
  },
  {
   "cell_type": "markdown",
   "id": "d189c2be",
   "metadata": {},
   "source": [
    "####   Building your network"
   ]
  },
  {
   "cell_type": "code",
   "execution_count": 82,
   "id": "42914a95",
   "metadata": {},
   "outputs": [],
   "source": [
    "from tensorflow.keras import models\n",
    "from tensorflow.keras import layers\n",
    "\n",
    "model = models.Sequential()\n",
    "model.add(layers.Dense(64, activation='relu', input_shape=(10000,)))\n",
    "model.add(layers.Dense(64, activation='relu'))\n",
    "model.add(layers.Dense(46, activation='softmax'))"
   ]
  },
  {
   "cell_type": "markdown",
   "id": "bf8ab255",
   "metadata": {},
   "source": [
    "#### Compiling the model"
   ]
  },
  {
   "cell_type": "code",
   "execution_count": 83,
   "id": "32372812",
   "metadata": {},
   "outputs": [],
   "source": [
    "model.compile(optimizer='rmsprop', loss='categorical_crossentropy', metrics=['accuracy'])"
   ]
  },
  {
   "cell_type": "markdown",
   "id": "8e4a79be",
   "metadata": {},
   "source": [
    "#### Setting aside a validation set"
   ]
  },
  {
   "cell_type": "code",
   "execution_count": 84,
   "id": "22c8f598",
   "metadata": {},
   "outputs": [],
   "source": [
    "x_val = x_train[:1000]\n",
    "partial_x_train = x_train[1000:] \n",
    "\n",
    "y_val = one_hot_train_labels[:1000]\n",
    "partial_y_train = one_hot_train_labels[1000:]"
   ]
  },
  {
   "cell_type": "markdown",
   "id": "9bb42932",
   "metadata": {},
   "source": [
    "#### Training the model "
   ]
  },
  {
   "cell_type": "code",
   "execution_count": 85,
   "id": "deb9e7c2",
   "metadata": {},
   "outputs": [
    {
     "name": "stdout",
     "output_type": "stream",
     "text": [
      "Train on 7982 samples, validate on 1000 samples\n",
      "Epoch 1/20\n",
      "7982/7982 [==============================] - 1s 109us/sample - loss: 2.8190 - acc: 0.4023 - val_loss: 1.9083 - val_acc: 0.6410\n",
      "Epoch 2/20\n",
      "7982/7982 [==============================] - 0s 58us/sample - loss: 1.5188 - acc: 0.7087 - val_loss: 1.3384 - val_acc: 0.7260\n",
      "Epoch 3/20\n",
      "7982/7982 [==============================] - 0s 59us/sample - loss: 1.0701 - acc: 0.7732 - val_loss: 1.1269 - val_acc: 0.7600\n",
      "Epoch 4/20\n",
      "7982/7982 [==============================] - 0s 58us/sample - loss: 0.8273 - acc: 0.8267 - val_loss: 1.0342 - val_acc: 0.7750\n",
      "Epoch 5/20\n",
      "7982/7982 [==============================] - 0s 56us/sample - loss: 0.6557 - acc: 0.8675 - val_loss: 0.9502 - val_acc: 0.8090\n",
      "Epoch 6/20\n",
      "7982/7982 [==============================] - 0s 57us/sample - loss: 0.5233 - acc: 0.8950 - val_loss: 0.9139 - val_acc: 0.8140\n",
      "Epoch 7/20\n",
      "7982/7982 [==============================] - 0s 57us/sample - loss: 0.4212 - acc: 0.9143 - val_loss: 0.8830 - val_acc: 0.8150\n",
      "Epoch 8/20\n",
      "7982/7982 [==============================] - 0s 58us/sample - loss: 0.3437 - acc: 0.9297 - val_loss: 0.8913 - val_acc: 0.8150\n",
      "Epoch 9/20\n",
      "7982/7982 [==============================] - 0s 58us/sample - loss: 0.2828 - acc: 0.9394 - val_loss: 0.8937 - val_acc: 0.8130\n",
      "Epoch 10/20\n",
      "7982/7982 [==============================] - 0s 58us/sample - loss: 0.2408 - acc: 0.9440 - val_loss: 0.8889 - val_acc: 0.8170\n",
      "Epoch 11/20\n",
      "7982/7982 [==============================] - 0s 57us/sample - loss: 0.2099 - acc: 0.9491 - val_loss: 0.8846 - val_acc: 0.8220\n",
      "Epoch 12/20\n",
      "7982/7982 [==============================] - 0s 56us/sample - loss: 0.1803 - acc: 0.9533 - val_loss: 0.9146 - val_acc: 0.8190\n",
      "Epoch 13/20\n",
      "7982/7982 [==============================] - 0s 62us/sample - loss: 0.1627 - acc: 0.9536 - val_loss: 0.9247 - val_acc: 0.8130\n",
      "Epoch 14/20\n",
      "7982/7982 [==============================] - 1s 67us/sample - loss: 0.1494 - acc: 0.9544 - val_loss: 0.9558 - val_acc: 0.8190\n",
      "Epoch 15/20\n",
      "7982/7982 [==============================] - 1s 67us/sample - loss: 0.1405 - acc: 0.9545 - val_loss: 0.9537 - val_acc: 0.8120\n",
      "Epoch 16/20\n",
      "7982/7982 [==============================] - 1s 72us/sample - loss: 0.1302 - acc: 0.9563 - val_loss: 1.0306 - val_acc: 0.8100\n",
      "Epoch 17/20\n",
      "7982/7982 [==============================] - 1s 67us/sample - loss: 0.1250 - acc: 0.9559 - val_loss: 1.0332 - val_acc: 0.8090\n",
      "Epoch 18/20\n",
      "7982/7982 [==============================] - 1s 66us/sample - loss: 0.1235 - acc: 0.9578 - val_loss: 1.0432 - val_acc: 0.8150\n",
      "Epoch 19/20\n",
      "7982/7982 [==============================] - 1s 68us/sample - loss: 0.1142 - acc: 0.9573 - val_loss: 1.0298 - val_acc: 0.8140\n",
      "Epoch 20/20\n",
      "7982/7982 [==============================] - 0s 59us/sample - loss: 0.1129 - acc: 0.9575 - val_loss: 1.0543 - val_acc: 0.8080\n"
     ]
    }
   ],
   "source": [
    "history = model.fit(partial_x_train, partial_y_train, epochs=20, batch_size=512, validation_data=(x_val, y_val))"
   ]
  },
  {
   "cell_type": "markdown",
   "id": "33ea9466",
   "metadata": {},
   "source": [
    "#### Plotting the training and validation loss "
   ]
  },
  {
   "cell_type": "code",
   "execution_count": 86,
   "id": "8c73f026",
   "metadata": {},
   "outputs": [
    {
     "data": {
      "image/png": "[encoded data removed]",
      "text/plain": [
       "<Figure size 432x288 with 1 Axes>"
      ]
     },
     "metadata": {
      "needs_background": "light"
     },
     "output_type": "display_data"
    }
   ],
   "source": [
    "import matplotlib.pyplot as plt\n",
    "\n",
    "loss = history.history['loss']\n",
    "val_loss = history.history['val_loss']\n",
    "epochs = range(1, len(loss) + 1)\n",
    "\n",
    "plt.plot(epochs, loss, 'bo', label='Training loss')\n",
    "plt.plot(epochs, val_loss, 'b', label='Validation loss')\n",
    "plt.title('Training and validation loss')\n",
    "plt.xlabel('Epochs')\n",
    "plt.ylabel('Loss')\n",
    "plt.legend()\n",
    "plt.show()"
   ]
  },
  {
   "cell_type": "markdown",
   "id": "4de8564d",
   "metadata": {},
   "source": [
    "#### Plotting the training and validation accuracy "
   ]
  },
  {
   "cell_type": "code",
   "execution_count": 87,
   "id": "507eb33c",
   "metadata": {},
   "outputs": [
    {
     "data": {
      "image/png": "[encoded data removed]",
      "text/plain": [
       "<Figure size 432x288 with 1 Axes>"
      ]
     },
     "metadata": {
      "needs_background": "light"
     },
     "output_type": "display_data"
    }
   ],
   "source": [
    "plt.clf()  ## Clears the figure \n",
    "acc = history.history['acc']\n",
    "val_acc = history.history['val_acc']\n",
    "\n",
    "plt.plot(epochs, acc, 'bo', label='Training acc')\n",
    "plt.plot(epochs, val_acc, 'b', label='Validation acc')\n",
    "\n",
    "plt.title('Training and validation accuracy')\n",
    "plt.xlabel('Epochs')\n",
    "plt.ylabel('Loss')\n",
    "plt.legend()\n",
    "plt.show() "
   ]
  },
  {
   "cell_type": "markdown",
   "id": "1cb19701",
   "metadata": {},
   "source": [
    "#### Retraining a model from scratch"
   ]
  },
  {
   "cell_type": "code",
   "execution_count": 88,
   "id": "ec13b534",
   "metadata": {},
   "outputs": [
    {
     "name": "stdout",
     "output_type": "stream",
     "text": [
      "Train on 7982 samples, validate on 1000 samples\n",
      "Epoch 1/9\n",
      "7982/7982 [==============================] - 1s 102us/sample - loss: 2.4848 - acc: 0.5336 - val_loss: 1.5675 - val_acc: 0.6670\n",
      "Epoch 2/9\n",
      "7982/7982 [==============================] - 1s 66us/sample - loss: 1.2445 - acc: 0.7368 - val_loss: 1.1851 - val_acc: 0.7360\n",
      "Epoch 3/9\n",
      "7982/7982 [==============================] - 1s 67us/sample - loss: 0.8757 - acc: 0.8150 - val_loss: 1.0143 - val_acc: 0.7910\n",
      "Epoch 4/9\n",
      "7982/7982 [==============================] - 1s 67us/sample - loss: 0.6360 - acc: 0.8706 - val_loss: 0.9681 - val_acc: 0.7980\n",
      "Epoch 5/9\n",
      "7982/7982 [==============================] - 1s 67us/sample - loss: 0.4719 - acc: 0.9078 - val_loss: 0.9103 - val_acc: 0.8080\n",
      "Epoch 6/9\n",
      "7982/7982 [==============================] - 1s 68us/sample - loss: 0.3611 - acc: 0.9280 - val_loss: 0.8690 - val_acc: 0.8240\n",
      "Epoch 7/9\n",
      "7982/7982 [==============================] - 1s 67us/sample - loss: 0.2817 - acc: 0.9381 - val_loss: 0.9078 - val_acc: 0.8240\n",
      "Epoch 8/9\n",
      "7982/7982 [==============================] - 1s 67us/sample - loss: 0.2401 - acc: 0.9436 - val_loss: 0.8992 - val_acc: 0.8130\n",
      "Epoch 9/9\n",
      "7982/7982 [==============================] - 1s 67us/sample - loss: 0.1957 - acc: 0.9494 - val_loss: 0.9034 - val_acc: 0.8210\n",
      "2246/2246 [==============================] - 0s 104us/sample - loss: 1.0159 - acc: 0.7921\n"
     ]
    }
   ],
   "source": [
    "model = models.Sequential()\n",
    "\n",
    "model.add(layers.Dense(128, activation='relu', input_shape=(10000,)))\n",
    "model.add(layers.Dense(64, activation='relu'))\n",
    "model.add(layers.Dense(46, activation='softmax'))\n",
    "\n",
    "model.compile(optimizer='rmsprop', loss='categorical_crossentropy', metrics=['accuracy'])\n",
    "\n",
    "model.fit(partial_x_train, partial_y_train, epochs=9, batch_size=512, validation_data=(x_val, y_val))\n",
    "\n",
    "results = model.evaluate(x_test, one_hot_test_labels) \n"
   ]
  },
  {
   "cell_type": "code",
   "execution_count": null,
   "id": "f7a868b7",
   "metadata": {},
   "outputs": [],
   "source": []
  }
 ],
 "metadata": {
  "kernelspec": {
   "display_name": "Python 3 (ipykernel)",
   "language": "python",
   "name": "python3"
  },
  "language_info": {
   "codemirror_mode": {
    "name": "ipython",
    "version": 3
   },
   "file_extension": ".py",
   "mimetype": "text/x-python",
   "name": "python",
   "nbconvert_exporter": "python",
   "pygments_lexer": "ipython3",
   "version": "3.7.11"
  }
 },
 "nbformat": 4,
 "nbformat_minor": 5
}
