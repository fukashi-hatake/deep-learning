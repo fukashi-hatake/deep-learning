{
 "cells": [
  {
   "cell_type": "markdown",
   "metadata": {},
   "source": [
    "## <center><font color='purple'>Building Simple Sequential Classification Model</font></center> \n",
    "### <center><font color='green'> Keywords: Keras, classification</font></center>"
   ]
  },
  {
   "cell_type": "code",
   "execution_count": 1,
   "metadata": {},
   "outputs": [],
   "source": [
    "name = 'Firuz' \n",
    "teacher = 'Mandy' # FROM DEEPLIZARD \n",
    "\n",
    "useful_links = [\n",
    "    'https://deeplizard.com', \n",
    "    'https://youtube.com/deeplizard' \n",
    "]"
   ]
  },
  {
   "cell_type": "markdown",
   "metadata": {},
   "source": [
    "#### Importing libraries "
   ]
  },
  {
   "cell_type": "code",
   "execution_count": 3,
   "metadata": {},
   "outputs": [],
   "source": [
    "import numpy as np \n",
    "from random import randint \n",
    "from sklearn.utils import shuffle \n",
    "from sklearn.preprocessing import MinMaxScaler"
   ]
  },
  {
   "cell_type": "code",
   "execution_count": 13,
   "metadata": {},
   "outputs": [],
   "source": [
    "import warnings\n",
    "warnings.filterwarnings('ignore')"
   ]
  },
  {
   "cell_type": "code",
   "execution_count": 4,
   "metadata": {},
   "outputs": [],
   "source": [
    "train_labels = []\n",
    "train_samples = []"
   ]
  },
  {
   "cell_type": "markdown",
   "metadata": {},
   "source": [
    "#### Example data:\n",
    "\n",
    "* An experiemental drug was tested on individulas from age 13 to 100 in clinical trail\n",
    "* The trail had 2100 participants. Half were under 65 years old, half were 65 years or older\n",
    "* Around 95% of patients 65 or older experienced side effects.\n",
    "* Around 95% of patients under 65 experienced no side effects."
   ]
  },
  {
   "cell_type": "code",
   "execution_count": 5,
   "metadata": {},
   "outputs": [],
   "source": [
    "for i in range(50): \n",
    "    # The ~5% of younger individuals who did experience side effects \n",
    "    random_younger = randint(13, 64)\n",
    "    train_samples.append(random_younger)\n",
    "    train_labels.append(1)\n",
    "    \n",
    "    # The ~5% of older individuals who did not experience side effects \n",
    "    random_older = randint(65, 100)\n",
    "    train_samples.append(random_older)\n",
    "    train_labels.append(0)\n",
    "    \n",
    "for i in range(1000): \n",
    "    # The ~95% of younger individuals who did not experience side effects \n",
    "    random_younger = randint(13, 64)\n",
    "    train_samples.append(random_younger)\n",
    "    train_labels.append(0)\n",
    "    \n",
    "    # The ~95% of older individuals who did experience side effects \n",
    "    random_older = randint(65, 100)\n",
    "    train_samples.append(random_older)\n",
    "    train_labels.append(1)"
   ]
  },
  {
   "cell_type": "code",
   "execution_count": 6,
   "metadata": {},
   "outputs": [
    {
     "data": {
      "text/plain": [
       "[13, 82, 17, 70, 23, 99, 50, 81, 20, 93]"
      ]
     },
     "execution_count": 6,
     "metadata": {},
     "output_type": "execute_result"
    }
   ],
   "source": [
    "train_samples[:10]"
   ]
  },
  {
   "cell_type": "code",
   "execution_count": 7,
   "metadata": {},
   "outputs": [],
   "source": [
    "train_labels = np.array(train_labels) \n",
    "train_samples = np.array(train_samples)\n",
    "train_labels, train_samples = shuffle(train_labels, train_samples)"
   ]
  },
  {
   "cell_type": "code",
   "execution_count": 8,
   "metadata": {},
   "outputs": [],
   "source": [
    "scaler = MinMaxScaler(feature_range=(0,1))\n",
    "scaled_train_samples = scaler.fit_transform(train_samples.reshape(-1,1))"
   ]
  },
  {
   "cell_type": "code",
   "execution_count": 9,
   "metadata": {},
   "outputs": [
    {
     "data": {
      "text/plain": [
       "array([[0.1954023 ],\n",
       "       [0.71264368],\n",
       "       [0.16091954],\n",
       "       [0.1954023 ],\n",
       "       [0.7816092 ],\n",
       "       [0.63218391],\n",
       "       [0.59770115],\n",
       "       [0.98850575],\n",
       "       [0.29885057],\n",
       "       [0.32183908]])"
      ]
     },
     "execution_count": 9,
     "metadata": {},
     "output_type": "execute_result"
    }
   ],
   "source": [
    "scaled_train_samples[:10]"
   ]
  },
  {
   "cell_type": "markdown",
   "metadata": {},
   "source": [
    "### Simple Keras Sequential Model "
   ]
  },
  {
   "cell_type": "code",
   "execution_count": 11,
   "metadata": {},
   "outputs": [],
   "source": [
    "import tensorflow as tf \n",
    "from tensorflow import keras \n",
    "from tensorflow.keras.models import Sequential \n",
    "from tensorflow.keras.layers import Activation, Dense \n",
    "from tensorflow.keras.optimizers import Adam \n",
    "from tensorflow.keras.metrics import categorical_crossentropy \n",
    "import warnings\n",
    "warnings.simplefilter(action='ignore', category=FutureWarning)"
   ]
  },
  {
   "cell_type": "code",
   "execution_count": 14,
   "metadata": {},
   "outputs": [],
   "source": [
    "model = Sequential([\n",
    "    Dense(units=16, input_shape=(1,), activation='relu'), \n",
    "    Dense(units=32, activation='relu'), \n",
    "    Dense(units=2, activation='softmax')\n",
    "])"
   ]
  },
  {
   "cell_type": "code",
   "execution_count": 15,
   "metadata": {},
   "outputs": [
    {
     "name": "stdout",
     "output_type": "stream",
     "text": [
      "Model: \"sequential_1\"\n",
      "_________________________________________________________________\n",
      "Layer (type)                 Output Shape              Param #   \n",
      "=================================================================\n",
      "dense_3 (Dense)              (None, 16)                32        \n",
      "_________________________________________________________________\n",
      "dense_4 (Dense)              (None, 32)                544       \n",
      "_________________________________________________________________\n",
      "dense_5 (Dense)              (None, 2)                 66        \n",
      "=================================================================\n",
      "Total params: 642\n",
      "Trainable params: 642\n",
      "Non-trainable params: 0\n",
      "_________________________________________________________________\n"
     ]
    }
   ],
   "source": [
    "model.summary()"
   ]
  },
  {
   "cell_type": "code",
   "execution_count": 16,
   "metadata": {},
   "outputs": [],
   "source": [
    "model.compile(optimizer=Adam(learning_rate=0.0001), loss='sparse_categorical_crossentropy', metrics=['accuracy'])"
   ]
  },
  {
   "cell_type": "code",
   "execution_count": 17,
   "metadata": {},
   "outputs": [
    {
     "name": "stdout",
     "output_type": "stream",
     "text": [
      "Epoch 1/30\n",
      "2100/2100 - 0s - loss: 0.6712 - acc: 0.5367\n",
      "Epoch 2/30\n",
      "2100/2100 - 0s - loss: 0.6429 - acc: 0.6662\n",
      "Epoch 3/30\n",
      "2100/2100 - 0s - loss: 0.6122 - acc: 0.7367\n",
      "Epoch 4/30\n",
      "2100/2100 - 0s - loss: 0.5837 - acc: 0.7690\n",
      "Epoch 5/30\n",
      "2100/2100 - 0s - loss: 0.5545 - acc: 0.7943\n",
      "Epoch 6/30\n",
      "2100/2100 - 0s - loss: 0.5248 - acc: 0.8190\n",
      "Epoch 7/30\n",
      "2100/2100 - 0s - loss: 0.4948 - acc: 0.8348\n",
      "Epoch 8/30\n",
      "2100/2100 - 0s - loss: 0.4654 - acc: 0.8548\n",
      "Epoch 9/30\n",
      "2100/2100 - 0s - loss: 0.4374 - acc: 0.8676\n",
      "Epoch 10/30\n",
      "2100/2100 - 0s - loss: 0.4117 - acc: 0.8829\n",
      "Epoch 11/30\n",
      "2100/2100 - 0s - loss: 0.3886 - acc: 0.8948\n",
      "Epoch 12/30\n",
      "2100/2100 - 0s - loss: 0.3682 - acc: 0.8971\n",
      "Epoch 13/30\n",
      "2100/2100 - 0s - loss: 0.3507 - acc: 0.9081\n",
      "Epoch 14/30\n",
      "2100/2100 - 0s - loss: 0.3359 - acc: 0.9114\n",
      "Epoch 15/30\n",
      "2100/2100 - 0s - loss: 0.3234 - acc: 0.9157\n",
      "Epoch 16/30\n",
      "2100/2100 - 0s - loss: 0.3125 - acc: 0.9233\n",
      "Epoch 17/30\n",
      "2100/2100 - 0s - loss: 0.3040 - acc: 0.9224\n",
      "Epoch 18/30\n",
      "2100/2100 - 0s - loss: 0.2966 - acc: 0.9257\n",
      "Epoch 19/30\n",
      "2100/2100 - 0s - loss: 0.2905 - acc: 0.9295\n",
      "Epoch 20/30\n",
      "2100/2100 - 0s - loss: 0.2852 - acc: 0.9300\n",
      "Epoch 21/30\n",
      "2100/2100 - 0s - loss: 0.2808 - acc: 0.9305\n",
      "Epoch 22/30\n",
      "2100/2100 - 0s - loss: 0.2770 - acc: 0.9338\n",
      "Epoch 23/30\n",
      "2100/2100 - 0s - loss: 0.2739 - acc: 0.9310\n",
      "Epoch 24/30\n",
      "2100/2100 - 0s - loss: 0.2712 - acc: 0.9352\n",
      "Epoch 25/30\n",
      "2100/2100 - 0s - loss: 0.2687 - acc: 0.9310\n",
      "Epoch 26/30\n",
      "2100/2100 - 0s - loss: 0.2667 - acc: 0.9362\n",
      "Epoch 27/30\n",
      "2100/2100 - 0s - loss: 0.2646 - acc: 0.9343\n",
      "Epoch 28/30\n",
      "2100/2100 - 0s - loss: 0.2631 - acc: 0.9333\n",
      "Epoch 29/30\n",
      "2100/2100 - 0s - loss: 0.2614 - acc: 0.9324\n",
      "Epoch 30/30\n",
      "2100/2100 - 0s - loss: 0.2600 - acc: 0.9390\n"
     ]
    },
    {
     "data": {
      "text/plain": [
       "<tensorflow.python.keras.callbacks.History at 0x19c765d3548>"
      ]
     },
     "execution_count": 17,
     "metadata": {},
     "output_type": "execute_result"
    }
   ],
   "source": [
    "model.fit(x=scaled_train_samples, y=train_labels, batch_size=10, epochs=30, shuffle=True, verbose=2)"
   ]
  },
  {
   "cell_type": "markdown",
   "metadata": {},
   "source": [
    "### Model Training with Validation"
   ]
  },
  {
   "cell_type": "code",
   "execution_count": 18,
   "metadata": {},
   "outputs": [],
   "source": [
    "model.compile(optimizer=Adam(learning_rate=0.0001), loss='sparse_categorical_crossentropy', metrics=['accuracy'])"
   ]
  },
  {
   "cell_type": "markdown",
   "metadata": {},
   "source": [
    "If we set validation_split = 0.1 (10% of train data is validation data now)"
   ]
  },
  {
   "cell_type": "code",
   "execution_count": 19,
   "metadata": {},
   "outputs": [
    {
     "name": "stdout",
     "output_type": "stream",
     "text": [
      "Train on 1890 samples, validate on 210 samples\n",
      "Epoch 1/30\n",
      "1890/1890 - 0s - loss: 0.2582 - acc: 0.9365 - val_loss: 0.2639 - val_acc: 0.9333\n",
      "Epoch 2/30\n",
      "1890/1890 - 0s - loss: 0.2569 - acc: 0.9392 - val_loss: 0.2658 - val_acc: 0.9286\n",
      "Epoch 3/30\n",
      "1890/1890 - 0s - loss: 0.2560 - acc: 0.9354 - val_loss: 0.2632 - val_acc: 0.9333\n",
      "Epoch 4/30\n",
      "1890/1890 - 0s - loss: 0.2552 - acc: 0.9365 - val_loss: 0.2634 - val_acc: 0.9286\n",
      "Epoch 5/30\n",
      "1890/1890 - 0s - loss: 0.2544 - acc: 0.9381 - val_loss: 0.2613 - val_acc: 0.9333\n",
      "Epoch 6/30\n",
      "1890/1890 - 0s - loss: 0.2535 - acc: 0.9392 - val_loss: 0.2616 - val_acc: 0.9333\n",
      "Epoch 7/30\n",
      "1890/1890 - 0s - loss: 0.2529 - acc: 0.9365 - val_loss: 0.2588 - val_acc: 0.9333\n",
      "Epoch 8/30\n",
      "1890/1890 - 0s - loss: 0.2523 - acc: 0.9392 - val_loss: 0.2596 - val_acc: 0.9333\n",
      "Epoch 9/30\n",
      "1890/1890 - 0s - loss: 0.2513 - acc: 0.9360 - val_loss: 0.2575 - val_acc: 0.9333\n",
      "Epoch 10/30\n",
      "1890/1890 - 0s - loss: 0.2509 - acc: 0.9392 - val_loss: 0.2580 - val_acc: 0.9333\n",
      "Epoch 11/30\n",
      "1890/1890 - 0s - loss: 0.2504 - acc: 0.9381 - val_loss: 0.2567 - val_acc: 0.9333\n",
      "Epoch 12/30\n",
      "1890/1890 - 0s - loss: 0.2497 - acc: 0.9397 - val_loss: 0.2585 - val_acc: 0.9333\n",
      "Epoch 13/30\n",
      "1890/1890 - 0s - loss: 0.2492 - acc: 0.9392 - val_loss: 0.2562 - val_acc: 0.9333\n",
      "Epoch 14/30\n",
      "1890/1890 - 0s - loss: 0.2488 - acc: 0.9397 - val_loss: 0.2565 - val_acc: 0.9333\n",
      "Epoch 15/30\n",
      "1890/1890 - 0s - loss: 0.2482 - acc: 0.9392 - val_loss: 0.2549 - val_acc: 0.9333\n",
      "Epoch 16/30\n",
      "1890/1890 - 0s - loss: 0.2477 - acc: 0.9397 - val_loss: 0.2553 - val_acc: 0.9333\n",
      "Epoch 17/30\n",
      "1890/1890 - 0s - loss: 0.2473 - acc: 0.9402 - val_loss: 0.2565 - val_acc: 0.9333\n",
      "Epoch 18/30\n",
      "1890/1890 - 0s - loss: 0.2469 - acc: 0.9397 - val_loss: 0.2546 - val_acc: 0.9333\n",
      "Epoch 19/30\n",
      "1890/1890 - 0s - loss: 0.2464 - acc: 0.9397 - val_loss: 0.2533 - val_acc: 0.9333\n",
      "Epoch 20/30\n",
      "1890/1890 - 0s - loss: 0.2462 - acc: 0.9392 - val_loss: 0.2526 - val_acc: 0.9333\n",
      "Epoch 21/30\n",
      "1890/1890 - 0s - loss: 0.2458 - acc: 0.9402 - val_loss: 0.2535 - val_acc: 0.9333\n",
      "Epoch 22/30\n",
      "1890/1890 - 0s - loss: 0.2453 - acc: 0.9397 - val_loss: 0.2525 - val_acc: 0.9333\n",
      "Epoch 23/30\n",
      "1890/1890 - 0s - loss: 0.2449 - acc: 0.9413 - val_loss: 0.2539 - val_acc: 0.9333\n",
      "Epoch 24/30\n",
      "1890/1890 - 0s - loss: 0.2446 - acc: 0.9397 - val_loss: 0.2530 - val_acc: 0.9333\n",
      "Epoch 25/30\n",
      "1890/1890 - 0s - loss: 0.2442 - acc: 0.9397 - val_loss: 0.2520 - val_acc: 0.9333\n",
      "Epoch 26/30\n",
      "1890/1890 - 0s - loss: 0.2439 - acc: 0.9407 - val_loss: 0.2526 - val_acc: 0.9333\n",
      "Epoch 27/30\n",
      "1890/1890 - 0s - loss: 0.2435 - acc: 0.9397 - val_loss: 0.2508 - val_acc: 0.9333\n",
      "Epoch 28/30\n",
      "1890/1890 - 0s - loss: 0.2431 - acc: 0.9397 - val_loss: 0.2506 - val_acc: 0.9333\n",
      "Epoch 29/30\n",
      "1890/1890 - 0s - loss: 0.2429 - acc: 0.9397 - val_loss: 0.2503 - val_acc: 0.9333\n",
      "Epoch 30/30\n",
      "1890/1890 - 0s - loss: 0.2425 - acc: 0.9397 - val_loss: 0.2507 - val_acc: 0.9333\n"
     ]
    },
    {
     "data": {
      "text/plain": [
       "<tensorflow.python.keras.callbacks.History at 0x19c778e5c88>"
      ]
     },
     "execution_count": 19,
     "metadata": {},
     "output_type": "execute_result"
    }
   ],
   "source": [
    "model.fit(x=scaled_train_samples, y=train_labels, validation_split=0.1, batch_size=10, epochs=30, shuffle=True, verbose=2)"
   ]
  },
  {
   "cell_type": "markdown",
   "metadata": {},
   "source": [
    "### Creating mock test dataset"
   ]
  },
  {
   "cell_type": "code",
   "execution_count": 20,
   "metadata": {},
   "outputs": [],
   "source": [
    "test_labels = []\n",
    "test_samples = []"
   ]
  },
  {
   "cell_type": "code",
   "execution_count": 21,
   "metadata": {},
   "outputs": [],
   "source": [
    "for i in range(10): \n",
    "    # The ~5% of younger individuals who did experience side effects \n",
    "    random_younger = randint(13, 64)\n",
    "    test_samples.append(random_younger)\n",
    "    test_labels.append(1)\n",
    "    \n",
    "    # The ~5% of older individuals who did not experience side effects \n",
    "    random_older = randint(65, 100)\n",
    "    test_samples.append(random_older)\n",
    "    test_labels.append(0)\n",
    "    \n",
    "for i in range(200): \n",
    "    # The ~95% of younger individuals who did not experience side effects \n",
    "    random_younger = randint(13, 64)\n",
    "    test_samples.append(random_younger)\n",
    "    test_labels.append(0)\n",
    "    \n",
    "    # The ~95% of older individuals who did experience side effects \n",
    "    random_older = randint(65, 100)\n",
    "    test_samples.append(random_older)\n",
    "    test_labels.append(1)"
   ]
  },
  {
   "cell_type": "code",
   "execution_count": 22,
   "metadata": {},
   "outputs": [],
   "source": [
    "test_labels = np.array(test_labels) \n",
    "test_samples = np.array(test_samples)\n",
    "test_labels, test_samples = shuffle(test_labels, test_samples)"
   ]
  },
  {
   "cell_type": "code",
   "execution_count": 23,
   "metadata": {},
   "outputs": [],
   "source": [
    "scaler = MinMaxScaler(feature_range=(0,1))\n",
    "scaled_test_samples = scaler.fit_transform(test_samples.reshape(-1,1))"
   ]
  },
  {
   "cell_type": "markdown",
   "metadata": {},
   "source": [
    "### Predict"
   ]
  },
  {
   "cell_type": "code",
   "execution_count": 24,
   "metadata": {},
   "outputs": [
    {
     "name": "stdout",
     "output_type": "stream",
     "text": [
      "420/420 - 0s\n"
     ]
    }
   ],
   "source": [
    "predictions = model.predict(x=scaled_test_samples, batch_size=10, verbose=2)"
   ]
  },
  {
   "cell_type": "code",
   "execution_count": 26,
   "metadata": {},
   "outputs": [
    {
     "data": {
      "text/plain": [
       "array([[0.02380713, 0.9761929 ],\n",
       "       [0.11570839, 0.88429165],\n",
       "       [0.9645129 , 0.03548711],\n",
       "       [0.01577857, 0.98422146],\n",
       "       [0.01452713, 0.98547286],\n",
       "       [0.9177162 , 0.08228379],\n",
       "       [0.9626886 , 0.03731136],\n",
       "       [0.9695534 , 0.03044664],\n",
       "       [0.9668923 , 0.03310761],\n",
       "       [0.01713592, 0.982864  ]], dtype=float32)"
      ]
     },
     "execution_count": 26,
     "metadata": {},
     "output_type": "execute_result"
    }
   ],
   "source": [
    "predictions[:10]"
   ]
  },
  {
   "cell_type": "code",
   "execution_count": 27,
   "metadata": {},
   "outputs": [],
   "source": [
    "rounded_predictions=np.argmax(predictions, axis=-1)"
   ]
  },
  {
   "cell_type": "code",
   "execution_count": 28,
   "metadata": {},
   "outputs": [
    {
     "data": {
      "text/plain": [
       "array([1, 1, 0, 1, 1, 0, 0, 0, 0, 1], dtype=int64)"
      ]
     },
     "execution_count": 28,
     "metadata": {},
     "output_type": "execute_result"
    }
   ],
   "source": [
    "rounded_predictions[:10]"
   ]
  },
  {
   "cell_type": "code",
   "execution_count": 30,
   "metadata": {},
   "outputs": [
    {
     "data": {
      "text/plain": [
       "array([1, 0, 0, 1, 1, 0, 0, 0, 0, 1])"
      ]
     },
     "execution_count": 30,
     "metadata": {},
     "output_type": "execute_result"
    }
   ],
   "source": [
    "test_labels[:10]"
   ]
  }
 ],
 "metadata": {
  "kernelspec": {
   "display_name": "Python 3 (ipykernel)",
   "language": "python",
   "name": "python3"
  },
  "language_info": {
   "codemirror_mode": {
    "name": "ipython",
    "version": 3
   },
   "file_extension": ".py",
   "mimetype": "text/x-python",
   "name": "python",
   "nbconvert_exporter": "python",
   "pygments_lexer": "ipython3",
   "version": "3.7.11"
  }
 },
 "nbformat": 4,
 "nbformat_minor": 4
}
